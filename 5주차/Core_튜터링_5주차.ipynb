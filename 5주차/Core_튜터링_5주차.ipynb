{
  "nbformat": 4,
  "nbformat_minor": 0,
  "metadata": {
    "colab": {
      "name": "Core_튜터링_5주차.ipynb",
      "provenance": []
    },
    "kernelspec": {
      "name": "python3",
      "display_name": "Python 3"
    }
  },
  "cells": [
    {
      "cell_type": "markdown",
      "metadata": {
        "id": "_zrZO4QVLV8f"
      },
      "source": [
        "# 미로찾기 프로그램 \n",
        "(조건)\n",
        "1. 벽은 #로, 빈 공간은 .으로 둔다.\n",
        "2. 캐릭터는 B로 둔다. (Ball의 약자)\n",
        "3. 모서리 부분은 전부 #로 막아 놓는다.\n",
        "\n",
        "(프로그램 설명)\n",
        "1. 프로그래밍 언어 : Python\n",
        "2. 함수를 사용하여 짜임새 있게 구현하였다."
      ]
    },
    {
      "cell_type": "code",
      "metadata": {
        "id": "8oaR7KykRToa"
      },
      "source": [
        "'''\n",
        "예시\n",
        "'''\n",
        "#####\n",
        "#..B#\n",
        "#.#.#\n",
        "#...#\n",
        "#####"
      ],
      "execution_count": null,
      "outputs": []
    },
    {
      "cell_type": "markdown",
      "metadata": {
        "id": "05x19cc3Lg-E"
      },
      "source": [
        "## 프로그램 코드"
      ]
    },
    {
      "cell_type": "markdown",
      "metadata": {
        "id": "GfjqR2KXJjOl"
      },
      "source": [
        "변수선언"
      ]
    },
    {
      "cell_type": "code",
      "metadata": {
        "id": "iszc5NHpQxEF"
      },
      "source": [
        "# 벽은 #로, 빈공간은.으로, 캐릭터는 B로 둔다.\n",
        "Block = '#'\n",
        "Void_area = '.'\n",
        "Character = 'B'\n",
        "\n",
        "# 게임판을 새롭게 정의\n",
        "game_board = []\n",
        "row = 0       #행(가로)의 길이\n",
        "column = 0    #열(세로)의 길이\n",
        "\n",
        "#캐릭터의 자리 또한 새롭게 정의\n",
        "c_x = 0              #캐릭터가 처음 시작하는 자리의 y좌표\n",
        "c_y = 0              #캐릭터가 처음 시작하는 자리의 x좌표"
      ],
      "execution_count": 37,
      "outputs": []
    },
    {
      "cell_type": "markdown",
      "metadata": {
        "id": "Qsqfn23lKmFB"
      },
      "source": [
        "함수 정의부"
      ]
    },
    {
      "cell_type": "code",
      "metadata": {
        "id": "FQGY3Je3NGOL"
      },
      "source": [
        "#개임판을 초기화하는 함수를 만들자\n",
        "#인자로 행의 길이와 열의 길이를 받아서 그 크기만큼 함수 안에서 game_board를 만들고,\n",
        "#인자로 캐릭터가 처음 시작하는 자리의 y좌표와 x좌표를 받아서, 그 위치에 캐릭터를 생성한다.\n",
        "# 리턴값을 함수 밖에 있는 game_board에 대입\n",
        "# 이 함수의 사용 예시 : game_board = default_game_board(5, 5)\n",
        "# 이 함수의 사용 예시 : game_board = default_game_board(r, c) (r = 3, c = 7)\n",
        "def default_game_board(row, column,c_y,c_x):\n",
        "  game_board = []\n",
        "\n",
        "  #빈 공간을 넣는 부분\n",
        "  for i in range(0,row,1): # 가로(행)\n",
        "   a = []\n",
        "   for j in range(0,column,1): # 세로(열)\n",
        "     a.append('.')\n",
        "   game_board.append(a)\n",
        "\n",
        "  #캐릭터의 자리를 정하는 부분\n",
        "  game_board[c_y][c_x] = 'B'\n",
        "\n",
        "  #벽을 넣는 부분\n",
        "  # (1) 맨 위 가로줄(0,0),(0,1),(0,2),(0,3) - (0,column-1)\n",
        "  # (2) 맨 위 가로줄 (2,0),(2,1),(2,2),(2,3)(row-1,0) - (row-1,column-1) \n",
        "  for i in range(0,column,1):\n",
        "    game_board[0][i] = '#'\n",
        "    game_board[row-1][i] = '#'\n",
        "  \n",
        "  # (3) 왼쪽 세로줄 (0,0),(1,0),(2,0) = (0,0)\n",
        "  # (4) 오른쪽 세로줄 (0,3),(1,3),(2,3) = (0,column-1)~(row-1,column-1)\n",
        "  for i in range(0,row,1):\n",
        "    game_board[i][0] = '#'\n",
        "    game_board[i][column-1] = '#'\n",
        "  print_game_board(game_board)\n",
        "\n",
        "  return game_board"
      ],
      "execution_count": 38,
      "outputs": []
    },
    {
      "cell_type": "code",
      "metadata": {
        "id": "fSASFbt1JlRs"
      },
      "source": [
        "#이중 리스트를 이중 리스트답게 출력하는 함수를 만들어 보자\n",
        "def print_game_board(game_board):\n",
        "  print('이중 리스트를 출력합니다.')\n",
        "  for i in range(0, len(game_board), 1): #가로 (행)\n",
        "    for j in range(0, len(game_board[i]), 1): #세로 (열)\n",
        "       print(game_board[i][j], end = ' ')  \n",
        "    print()\n",
        "  print('이중 리스트의 출력이 끝났습니다.')\n",
        "  print() "
      ],
      "execution_count": 39,
      "outputs": []
    },
    {
      "cell_type": "code",
      "metadata": {
        "id": "SYFGfQ5mXd_8"
      },
      "source": [
        "#테두리에 닿았다면?\n",
        "#내가 왼쪽 끝까지 왔는데 또 외쪽으로 간다고 하면 못가게 막는 것!\n",
        "\n",
        "def check(dir,y,x):\n",
        "  #현재 좌표가 테두리를 벗어난다면\n",
        "  if x<0 or x>=5 or y<0 or y>=5:\n",
        "    #다시고쳐주고\n",
        "    if dir == '왼쪽':\n",
        "      x = 0\n",
        "    elif dir == '오른쪽':\n",
        "      x = 4\n",
        "    elif dir == '위쪽':\n",
        "      y = 0\n",
        "    elif dir == '아래쪽':\n",
        "      y = 4\n",
        "\n",
        "    #사용자에게 알려줍니다.\n",
        "    print('더이상',dir,'쪽으로 갈 수 없습니다.')\n",
        " \n",
        " \n",
        "  # 그리고 그 좌표를 리턴합니다.\n",
        "  return y,x"
      ],
      "execution_count": 40,
      "outputs": []
    },
    {
      "cell_type": "code",
      "metadata": {
        "id": "xCCMHHfAdSQH"
      },
      "source": [
        "#벽을 만나기 전까지 한 방향으로 계속 캐릭터를 움직이는 함수\n",
        "#재귀함수를 이용해서 만들어 보자\n",
        "#인자로 게임판,캐릭터의 y좌표,캐릭터의 x좌표,움직일 방향\n",
        "#리턴값은 캐릭터가 벽을 만나기 전까지 한 방향으로 계속 움직인 결과를 보여주는 게임판\n",
        "def move_not_block(game_board,c_y,c_x,dir):\n",
        "  #재귀함수를 잘 알려면 print를 해보면 된다.\n",
        "  print_game_board(game_board)\n",
        "  print(c_y,c_x,dir)\n",
        "  #함수 안에서만 쓰이는 y,x변수를 만들자\n",
        "  y = c_y\n",
        "  x = c_x\n",
        "  #먼저 1칸 이동을 하고\n",
        "  if dir == '왼쪽':\n",
        "    x = x - 1\n",
        "  elif dir == '오른쪽':\n",
        "    x = x + 1\n",
        "  elif dir == '위쪽':\n",
        "    y = y - 1\n",
        "  elif dir == '아래쪽':\n",
        "    y = y + 1\n",
        " \n",
        "  #(y,x) : 1칸 이동한 좌표\n",
        "  #(c_y,c_x) : 이동 전 좌표\n",
        "  #이동한 자리가 벽인지 확인\n",
        "  if game_board[y][x] != '#': #이동한 자리가 벽이 아니라면\n",
        "    #이동하기 전 자리는 빈 공간('.')으로 두고\n",
        "    #이동 후 자리에 캐릭터 표시('B')를 한다.\n",
        "    game_board[c_y][c_x] = '.'\n",
        "    game_board[y][x] = 'B'\n",
        "    return move_not_block(game_board,y,x,dir)\n",
        "  else:\n",
        "    return game_board\n"
      ],
      "execution_count": 41,
      "outputs": []
    },
    {
      "cell_type": "markdown",
      "metadata": {
        "id": "9Z4xqwGGTo6E"
      },
      "source": [
        "함수테스트"
      ]
    },
    {
      "cell_type": "code",
      "metadata": {
        "id": "QAv89P-nTnpd",
        "outputId": "c9b9f2fc-9ab9-41cf-89a3-70ef91b354b3",
        "colab": {
          "base_uri": "https://localhost:8080/"
        }
      },
      "source": [
        "#default_game_board 함수 테스트\n",
        "game_board = default_game_board(10,9,3,7)\n",
        "# game_board[1][3] = 'C'\n",
        "# print(game_board, len(game_board))\n",
        "# print(game_board[0], len(game_board[0]))\n",
        "# print(game_board[1], len(game_board[1]))\n",
        "# print(game_board[2], len(game_board[2]))"
      ],
      "execution_count": 42,
      "outputs": [
        {
          "output_type": "stream",
          "text": [
            "이중 리스트를 출력합니다.\n",
            "# # # # # # # # # \n",
            "# . . . . . . . # \n",
            "# . . . . . . . # \n",
            "# . . . . . . B # \n",
            "# . . . . . . . # \n",
            "# . . . . . . . # \n",
            "# . . . . . . . # \n",
            "# . . . . . . . # \n",
            "# . . . . . . . # \n",
            "# # # # # # # # # \n",
            "이중 리스트의 출력이 끝났습니다.\n",
            "\n"
          ],
          "name": "stdout"
        }
      ]
    },
    {
      "cell_type": "code",
      "metadata": {
        "id": "zJmwYbdehZIB",
        "outputId": "0f7517e4-59fb-4729-8744-d14a23061c67",
        "colab": {
          "base_uri": "https://localhost:8080/"
        }
      },
      "source": [
        "game_board = move_not_block(game_board,3,7,'왼쪽')\n",
        "print('최종결과')\n",
        "print_game_board(game_board)"
      ],
      "execution_count": 43,
      "outputs": [
        {
          "output_type": "stream",
          "text": [
            "이중 리스트를 출력합니다.\n",
            "# # # # # # # # # \n",
            "# . . . . . . . # \n",
            "# . . . . . . . # \n",
            "# . . . . . . B # \n",
            "# . . . . . . . # \n",
            "# . . . . . . . # \n",
            "# . . . . . . . # \n",
            "# . . . . . . . # \n",
            "# . . . . . . . # \n",
            "# # # # # # # # # \n",
            "이중 리스트의 출력이 끝났습니다.\n",
            "\n",
            "3 7 왼쪽\n",
            "이중 리스트를 출력합니다.\n",
            "# # # # # # # # # \n",
            "# . . . . . . . # \n",
            "# . . . . . . . # \n",
            "# . . . . . B . # \n",
            "# . . . . . . . # \n",
            "# . . . . . . . # \n",
            "# . . . . . . . # \n",
            "# . . . . . . . # \n",
            "# . . . . . . . # \n",
            "# # # # # # # # # \n",
            "이중 리스트의 출력이 끝났습니다.\n",
            "\n",
            "3 6 왼쪽\n",
            "이중 리스트를 출력합니다.\n",
            "# # # # # # # # # \n",
            "# . . . . . . . # \n",
            "# . . . . . . . # \n",
            "# . . . . B . . # \n",
            "# . . . . . . . # \n",
            "# . . . . . . . # \n",
            "# . . . . . . . # \n",
            "# . . . . . . . # \n",
            "# . . . . . . . # \n",
            "# # # # # # # # # \n",
            "이중 리스트의 출력이 끝났습니다.\n",
            "\n",
            "3 5 왼쪽\n",
            "이중 리스트를 출력합니다.\n",
            "# # # # # # # # # \n",
            "# . . . . . . . # \n",
            "# . . . . . . . # \n",
            "# . . . B . . . # \n",
            "# . . . . . . . # \n",
            "# . . . . . . . # \n",
            "# . . . . . . . # \n",
            "# . . . . . . . # \n",
            "# . . . . . . . # \n",
            "# # # # # # # # # \n",
            "이중 리스트의 출력이 끝났습니다.\n",
            "\n",
            "3 4 왼쪽\n",
            "이중 리스트를 출력합니다.\n",
            "# # # # # # # # # \n",
            "# . . . . . . . # \n",
            "# . . . . . . . # \n",
            "# . . B . . . . # \n",
            "# . . . . . . . # \n",
            "# . . . . . . . # \n",
            "# . . . . . . . # \n",
            "# . . . . . . . # \n",
            "# . . . . . . . # \n",
            "# # # # # # # # # \n",
            "이중 리스트의 출력이 끝났습니다.\n",
            "\n",
            "3 3 왼쪽\n",
            "이중 리스트를 출력합니다.\n",
            "# # # # # # # # # \n",
            "# . . . . . . . # \n",
            "# . . . . . . . # \n",
            "# . B . . . . . # \n",
            "# . . . . . . . # \n",
            "# . . . . . . . # \n",
            "# . . . . . . . # \n",
            "# . . . . . . . # \n",
            "# . . . . . . . # \n",
            "# # # # # # # # # \n",
            "이중 리스트의 출력이 끝났습니다.\n",
            "\n",
            "3 2 왼쪽\n",
            "이중 리스트를 출력합니다.\n",
            "# # # # # # # # # \n",
            "# . . . . . . . # \n",
            "# . . . . . . . # \n",
            "# B . . . . . . # \n",
            "# . . . . . . . # \n",
            "# . . . . . . . # \n",
            "# . . . . . . . # \n",
            "# . . . . . . . # \n",
            "# . . . . . . . # \n",
            "# # # # # # # # # \n",
            "이중 리스트의 출력이 끝났습니다.\n",
            "\n",
            "3 1 왼쪽\n",
            "최종결과\n",
            "이중 리스트를 출력합니다.\n",
            "# # # # # # # # # \n",
            "# . . . . . . . # \n",
            "# . . . . . . . # \n",
            "# B . . . . . . # \n",
            "# . . . . . . . # \n",
            "# . . . . . . . # \n",
            "# . . . . . . . # \n",
            "# . . . . . . . # \n",
            "# . . . . . . . # \n",
            "# # # # # # # # # \n",
            "이중 리스트의 출력이 끝났습니다.\n",
            "\n"
          ],
          "name": "stdout"
        }
      ]
    },
    {
      "cell_type": "markdown",
      "metadata": {
        "id": "TizeaCFtNKIs"
      },
      "source": [
        "메인함수"
      ]
    },
    {
      "cell_type": "code",
      "metadata": {
        "id": "vR4n1rZhTnI-"
      },
      "source": [
        ""
      ],
      "execution_count": null,
      "outputs": []
    },
    {
      "cell_type": "code",
      "metadata": {
        "id": "KFvolaO1NIwc",
        "outputId": "e39cf997-c530-47aa-dc87-1a37ab37ee8a",
        "colab": {
          "base_uri": "https://localhost:8080/"
        }
      },
      "source": [
        "#1. 게임판을 만들어보자\n",
        "lists = [[0,0,0,0,0],\n",
        "         [0,0,0,0,0],\n",
        "         [0,0,0,0,0],\n",
        "         [0,0,0,0,0],\n",
        "         [0,0,0,0,0],]\n",
        "print(lists)"
      ],
      "execution_count": 3,
      "outputs": [
        {
          "output_type": "stream",
          "text": [
            "[[0, 0, 0, 0, 0], [0, 0, 0, 0, 0], [0, 0, 0, 0, 0], [0, 0, 0, 0, 0], [0, 0, 0, 0, 0]]\n"
          ],
          "name": "stdout"
        }
      ]
    },
    {
      "cell_type": "code",
      "metadata": {
        "id": "81bXxjkiNdtf",
        "outputId": "bffae0ea-d1a2-4db9-d2a6-f57a32534b8c",
        "colab": {
          "base_uri": "https://localhost:8080/"
        }
      },
      "source": [
        "#2. 움직이는 것을 구현\n",
        "#내가 지금 있는 위치를 표시 -> (y,x)\n",
        "x = 2\n",
        "y = 2\n",
        "\n",
        "#lists 초기화\n",
        "lists = default_doublelist(lists)\n",
        "\n",
        "dir = input('방향을 입력하세요: ')\n",
        "\n",
        "#이동하기 전의 위치의 좌표는 0으로 만든다.\n",
        "lists[y][x] = 0\n",
        "\n",
        "#왼쪽으로 1칸 간다면? (2,2)->(2,1)\n",
        "if dir == '왼쪽':\n",
        "  x = x -1;\n",
        "\n",
        "#오른쪽으로 1칸 간다면? (2,2) -> (2,3)\n",
        "elif dir == '오른쪽':\n",
        "  x = x +1;\n",
        "\n",
        "#위로 1칸 간다면? (2,2) -> (1,2)\n",
        "elif dir == '위쪽':\n",
        "  y = y -1;\n",
        "\n",
        "#아래로 1칸 간다면? (2,2) -> (3,2)\n",
        "elif dir == '아래쪽':\n",
        "  y = y +1\n",
        "\n",
        "print(y,x)\n",
        "\n",
        "#이동한 후의 좌표는 1로 만든다.\n",
        "lists[y][x] = 1\n",
        "\n",
        "print_doublelist(lists)"
      ],
      "execution_count": 6,
      "outputs": [
        {
          "output_type": "stream",
          "text": [
            "이중 리스트를 출력합니다.\n",
            "0 0 0 0 0 \n",
            "0 0 0 0 0 \n",
            "0 0 1 0 0 \n",
            "0 0 0 0 0 \n",
            "0 0 0 0 0 \n",
            "이중 리스트의 출력이 끝났습니다.\n",
            "\n",
            "방향을 입력하세요: 위쪽\n",
            "1 2\n",
            "이중 리스트를 출력합니다.\n",
            "0 0 0 0 0 \n",
            "0 0 1 0 0 \n",
            "0 0 0 0 0 \n",
            "0 0 0 0 0 \n",
            "0 0 0 0 0 \n",
            "이중 리스트의 출력이 끝났습니다.\n",
            "\n"
          ],
          "name": "stdout"
        }
      ]
    },
    {
      "cell_type": "code",
      "metadata": {
        "id": "HYhrcjQ9L5CK",
        "outputId": "10dc9c56-9eed-4ec6-b75e-e35ea226478d",
        "colab": {
          "base_uri": "https://localhost:8080/"
        }
      },
      "source": [
        "#3. 여러 동작 수행하기 - 반복문 (while문 등..)\n",
        "\n",
        "y = 2\n",
        "x = 2\n",
        "while True:\n",
        "  dir = input('방향을 입력하세요(그만하시고 싶으시면\\'그만\\'이라고 입력):')\n",
        "\n",
        "  #lists업데이트: 이동하기 전 위치와 좌표는 0으로 만든다.\n",
        "  lists[y][x] = 0\n",
        "  \n",
        "  #왼쪽으로 1칸 간다면? (2,2)->(2,1)\n",
        "  if dir == '왼쪽':\n",
        "    x = x - 1\n",
        "    y,x = check(dir,y,x)\n",
        "\n",
        "    # 테두리에 닿았다면\n",
        "    if x < 0:\n",
        "      x = 0\n",
        "      print('더이상 왼쪽으로 갈 수 없습니다.')\n",
        "\n",
        "  #오른쪽으로 1칸 간다면? (2,2) -> (2,3)\n",
        "  elif dir == '오른쪽':\n",
        "    x = x + 1\n",
        "    y,x = check(dir,y,x)\n",
        "    if x > 5:\n",
        "      x = 4\n",
        "      print('더이상 왼쪽으로 갈 수 없습니다.')\n",
        "\n",
        "  #위로 1칸 간다면? (2,2) -> (1,2)\n",
        "  elif dir == '위쪽':\n",
        "    y = y - 1\n",
        "    y,x = check(dir,y,x)\n",
        "    if y < 0:\n",
        "      y = 0\n",
        "      print('더이상 왼쪽으로 갈 수 없습니다.')\n",
        "\n",
        "  #아래로 1칸 간다면? (2,2) -> (3,2)\n",
        "  elif dir == '아래쪽':\n",
        "    y = y + 1\n",
        "    y,x = check(dir,y,x)\n",
        "    if y > 5:\n",
        "      y = 4\n",
        "      print('더이상 왼쪽으로 갈 수 없습니다.')\n",
        "  \n",
        "  elif dir == '그만':\n",
        "    break\n",
        "\n",
        "  print(y,x)\n",
        "\n",
        "  #이동한 후의 좌표는 1로 만든다.\n",
        "  lists[y][x] = 1\n",
        "\n",
        "  print_doublelist(lists)"
      ],
      "execution_count": 12,
      "outputs": [
        {
          "output_type": "stream",
          "text": [
            "방향을 입력하세요(그만하시고 싶으시면'그만'이라고 입력):왼쪽\n",
            "2 1\n",
            "이중 리스트를 출력합니다.\n",
            "0 0 0 0 0 \n",
            "0 0 0 0 0 \n",
            "0 1 0 0 0 \n",
            "0 0 0 0 0 \n",
            "0 0 0 0 0 \n",
            "이중 리스트의 출력이 끝났습니다.\n",
            "\n",
            "방향을 입력하세요(그만하시고 싶으시면'그만'이라고 입력):오른쪽\n",
            "2 2\n",
            "이중 리스트를 출력합니다.\n",
            "0 0 0 0 0 \n",
            "0 0 0 0 0 \n",
            "0 0 1 0 0 \n",
            "0 0 0 0 0 \n",
            "0 0 0 0 0 \n",
            "이중 리스트의 출력이 끝났습니다.\n",
            "\n",
            "방향을 입력하세요(그만하시고 싶으시면'그만'이라고 입력):위쪽\n",
            "1 2\n",
            "이중 리스트를 출력합니다.\n",
            "0 0 0 0 0 \n",
            "0 0 1 0 0 \n",
            "0 0 0 0 0 \n",
            "0 0 0 0 0 \n",
            "0 0 0 0 0 \n",
            "이중 리스트의 출력이 끝났습니다.\n",
            "\n",
            "방향을 입력하세요(그만하시고 싶으시면'그만'이라고 입력):아래쪽\n",
            "2 2\n",
            "이중 리스트를 출력합니다.\n",
            "0 0 0 0 0 \n",
            "0 0 0 0 0 \n",
            "0 0 1 0 0 \n",
            "0 0 0 0 0 \n",
            "0 0 0 0 0 \n",
            "이중 리스트의 출력이 끝났습니다.\n",
            "\n",
            "방향을 입력하세요(그만하시고 싶으시면'그만'이라고 입력):그만\n"
          ],
          "name": "stdout"
        }
      ]
    },
    {
      "cell_type": "code",
      "metadata": {
        "id": "gxmANeCLMu7K"
      },
      "source": [
        ""
      ],
      "execution_count": null,
      "outputs": []
    }
  ]
}