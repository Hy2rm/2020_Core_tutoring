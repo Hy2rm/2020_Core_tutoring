{
  "nbformat": 4,
  "nbformat_minor": 0,
  "metadata": {
    "colab": {
      "name": "Core_튜터링_ 4주차.ipynb",
      "provenance": []
    },
    "kernelspec": {
      "name": "python3",
      "display_name": "Python 3"
    }
  },
  "cells": [
    {
      "cell_type": "markdown",
      "metadata": {
        "id": "cc59-3W5HYMv"
      },
      "source": [
        "백준2178 미로탐색"
      ]
    },
    {
      "cell_type": "code",
      "metadata": {
        "id": "6rmcf91BHcMR",
        "outputId": "b09b3d8d-6f7a-49bc-aced-e4cc37e07868",
        "colab": {
          "base_uri": "https://localhost:8080/",
          "height": 35
        }
      },
      "source": [
        "#1. 게임판을 만들어보자\n",
        "lists = [[0,0,0,0,0],\n",
        "         [0,0,0,0,0],\n",
        "         [0,0,0,0,0],\n",
        "         [0,0,0,0,0],\n",
        "         [0,0,0,0,0],]\n",
        "print(lists)"
      ],
      "execution_count": 1,
      "outputs": [
        {
          "output_type": "stream",
          "text": [
            "[[0, 0, 0, 0, 0], [0, 0, 0, 0, 0], [0, 0, 0, 0, 0], [0, 0, 0, 0, 0], [0, 0, 0, 0, 0]]\n"
          ],
          "name": "stdout"
        }
      ]
    },
    {
      "cell_type": "code",
      "metadata": {
        "id": "O8FhVuHJHz-q",
        "outputId": "e9d6a7c9-fbb7-4423-98ad-0f952e5e076d",
        "colab": {
          "base_uri": "https://localhost:8080/",
          "height": 197
        }
      },
      "source": [
        "# 좀 더 우아하게 짜는 방법은? -> 이중for 문과 append를 이용하는 방법\n",
        "lists = []\n",
        "for i in range(0,5,1): # 가로(행)\n",
        "   a = []\n",
        "   for j in range(0,5,1): # 세로(열)\n",
        "     a.append(0)\n",
        "   lists.append(a)\n",
        "print_doublelist(lists)\n",
        "\n",
        "lists[2][2]=1\n",
        "print_doublelist(lists)"
      ],
      "execution_count": 14,
      "outputs": [
        {
          "output_type": "stream",
          "text": [
            "0 0 0 0 0 \n",
            "0 0 0 0 0 \n",
            "0 0 0 0 0 \n",
            "0 0 0 0 0 \n",
            "0 0 0 0 0 \n",
            "0 0 0 0 0 \n",
            "0 0 0 0 0 \n",
            "0 0 1 0 0 \n",
            "0 0 0 0 0 \n",
            "0 0 0 0 0 \n"
          ],
          "name": "stdout"
        }
      ]
    },
    {
      "cell_type": "code",
      "metadata": {
        "id": "bOJwsiTwMMbm",
        "outputId": "4feced98-83ab-49f9-815a-d140934b57ef",
        "colab": {
          "base_uri": "https://localhost:8080/",
          "height": 161
        }
      },
      "source": [
        "#이중 리스트를 이중 리스트답게 출력하는 함수를 만들어 보자\n",
        "def print_doublelist(lists):\n",
        "  print('이중 리스트를 출력합니다.')\n",
        "  for i in range(0, 5, 1): #가로 (행)\n",
        "    for j in range(0, 5, 1): #세로 (열)\n",
        "       print(lists[i][j], end = ' ')  \n",
        "    print()\n",
        "  print('이중 리스트의 출력이 끝났습니다.')\n",
        "  print() \n",
        "print_doublelist(lists)"
      ],
      "execution_count": 20,
      "outputs": [
        {
          "output_type": "stream",
          "text": [
            "이중 리스트를 출력합니다.\n",
            "0 0 0 0 0 \n",
            "0 0 0 0 0 \n",
            "0 0 1 0 0 \n",
            "0 0 0 0 0 \n",
            "0 0 0 0 0 \n",
            "이중 리스트의 출력이 끝났습니다.\n",
            "\n"
          ],
          "name": "stdout"
        }
      ]
    },
    {
      "cell_type": "code",
      "metadata": {
        "id": "Qal0A99ySUCO"
      },
      "source": [
        "#이중 리스트를 초기화하는 함수를 만들자\n",
        "#초기화를 하면 \n",
        "# 0 0 0 0 0\n",
        "# 0 0 0 0 0\n",
        "# 0 0 1 0 0\n",
        "# 0 0 0 0 0\n",
        "# 0 0 0 0 0\n",
        "def default_doublelist(lists):\n",
        "  lists = []\n",
        "  for i in range(0,5,1): # 가로(행)\n",
        "   a = []\n",
        "   for j in range(0,5,1): # 세로(열)\n",
        "     a.append(0)\n",
        "   lists.append(a)\n",
        "  lists[2][2] = 1\n",
        "\n",
        "  print_doublelist(lists)\n",
        "\n",
        "  return lists\n"
      ],
      "execution_count": 31,
      "outputs": []
    },
    {
      "cell_type": "code",
      "metadata": {
        "id": "qkgEtrFBSjNf",
        "outputId": "6855087f-6139-49c3-d168-4f36c8a0deb4",
        "colab": {
          "base_uri": "https://localhost:8080/",
          "height": 305
        }
      },
      "source": [
        "lists = default_doublelist(lists)\n",
        "print_doublelist(lists)"
      ],
      "execution_count": 32,
      "outputs": [
        {
          "output_type": "stream",
          "text": [
            "이중 리스트를 출력합니다.\n",
            "0 0 0 0 0 \n",
            "0 0 0 0 0 \n",
            "0 0 1 0 0 \n",
            "0 0 0 0 0 \n",
            "0 0 0 0 0 \n",
            "이중 리스트의 출력이 끝났습니다.\n",
            "\n",
            "이중 리스트를 출력합니다.\n",
            "0 0 0 0 0 \n",
            "0 0 0 0 0 \n",
            "0 0 1 0 0 \n",
            "0 0 0 0 0 \n",
            "0 0 0 0 0 \n",
            "이중 리스트의 출력이 끝났습니다.\n",
            "\n"
          ],
          "name": "stdout"
        }
      ]
    },
    {
      "cell_type": "code",
      "metadata": {
        "id": "dmEk6lEkISNm",
        "outputId": "bd6fd606-f8f1-47f6-f78a-fefba252a4a5",
        "colab": {
          "base_uri": "https://localhost:8080/",
          "height": 341
        }
      },
      "source": [
        "#2. 움직이는 것을 구현\n",
        "#내가 지금 있는 위치를 표시 -> (y,x)\n",
        "x = 2\n",
        "y = 2\n",
        "\n",
        "#lists 최기화\n",
        "lists = default_doublelist(lists)\n",
        "\n",
        "dir = input('방향을 입력하세요: ')\n",
        "\n",
        "#이동하기 전의 위치의 좌표는 0으로 만든다.\n",
        "lists[y][x] = 0\n",
        "\n",
        "#왼쪽으로 1칸 간다면? (2,2)->(2,1)\n",
        "if dir == '왼쪽':\n",
        "  x = x -1;\n",
        "\n",
        "#오른쪽으로 1칸 간다면? (2,2) -> (2,3)\n",
        "elif dir == '오른쪽':\n",
        "  x = x +1;\n",
        "\n",
        "#위로 1칸 간다면? (2,2) -> (1,2)\n",
        "elif dir == '위쪽':\n",
        "  y = y -1;\n",
        "\n",
        "#아래로 1칸 간다면? (2,2) -> (3,2)\n",
        "elif dir == '아래쪽':\n",
        "  y = y +1\n",
        "\n",
        "print(y,x)\n",
        "\n",
        "#이동한 후의 좌표는 1로 만든다.\n",
        "lists[y][x] = 1\n",
        "\n",
        "print_doublelist(lists)"
      ],
      "execution_count": 36,
      "outputs": [
        {
          "output_type": "stream",
          "text": [
            "이중 리스트를 출력합니다.\n",
            "0 0 0 0 0 \n",
            "0 0 0 0 0 \n",
            "0 0 1 0 0 \n",
            "0 0 0 0 0 \n",
            "0 0 0 0 0 \n",
            "이중 리스트의 출력이 끝났습니다.\n",
            "\n",
            "방향을 입력하세요: 아래쪽\n",
            "3 2\n",
            "이중 리스트를 출력합니다.\n",
            "0 0 0 0 0 \n",
            "0 0 0 0 0 \n",
            "0 0 0 0 0 \n",
            "0 0 1 0 0 \n",
            "0 0 0 0 0 \n",
            "이중 리스트의 출력이 끝났습니다.\n",
            "\n"
          ],
          "name": "stdout"
        }
      ]
    },
    {
      "cell_type": "code",
      "metadata": {
        "id": "pw-gR79sbtbB",
        "outputId": "02285e31-10d1-402d-9ec8-ff97cc136225",
        "colab": {
          "base_uri": "https://localhost:8080/",
          "height": 161
        }
      },
      "source": [
        "lists = default_doublelist(lists)\n",
        "\n",
        "x = 2\n",
        "y = 2"
      ],
      "execution_count": 41,
      "outputs": [
        {
          "output_type": "stream",
          "text": [
            "이중 리스트를 출력합니다.\n",
            "0 0 0 0 0 \n",
            "0 0 0 0 0 \n",
            "0 0 1 0 0 \n",
            "0 0 0 0 0 \n",
            "0 0 0 0 0 \n",
            "이중 리스트의 출력이 끝났습니다.\n",
            "\n"
          ],
          "name": "stdout"
        }
      ]
    },
    {
      "cell_type": "code",
      "metadata": {
        "id": "pQnI4Rn1ahXp",
        "outputId": "7aff2155-98a2-4ea4-ee46-8626fc4943e7",
        "colab": {
          "base_uri": "https://localhost:8080/",
          "height": 395
        }
      },
      "source": [
        "#3. 여러동작 수행하기 - 반복문(while문 등등..)\n",
        "\n",
        "while True:\n",
        "  dir = input('방향을 입력하세요(그만하시고 싶으시면\\'그만\\'이라고 입력):')\n",
        "\n",
        "  #lists업데이트: 이동하기 전 위치와 좌표는 0으로 만든다.\n",
        "  lists[y][x] = 0\n",
        "  \n",
        "  #왼쪽으로 1칸 간다면? (2,2)->(2,1)\n",
        "  if dir == '왼쪽':\n",
        "    x = x -1;\n",
        "\n",
        "  #오른쪽으로 1칸 간다면? (2,2) -> (2,3)\n",
        "  elif dir == '오른쪽':\n",
        "    x = x +1;\n",
        "\n",
        "  #위로 1칸 간다면? (2,2) -> (1,2)\n",
        "  elif dir == '위쪽':\n",
        "    y = y -1;\n",
        "\n",
        "  #아래로 1칸 간다면? (2,2) -> (3,2)\n",
        "  elif dir == '아래쪽':\n",
        "    y = y +1\n",
        "  elif dir == '그만':\n",
        "    break\n",
        "\n",
        "  print(y,x)\n",
        "\n",
        "  #이동한 후의 좌표는 1로 만든다.\n",
        "  lists[y][x] = 1\n",
        "\n",
        "  print_doublelist(lists)"
      ],
      "execution_count": 42,
      "outputs": [
        {
          "output_type": "stream",
          "text": [
            "방향을 입력하세요(그만하시고 싶으시면'그만'이라고 입력):아래쪽\n",
            "3 2\n",
            "이중 리스트를 출력합니다.\n",
            "0 0 0 0 0 \n",
            "0 0 0 0 0 \n",
            "0 0 0 0 0 \n",
            "0 0 1 0 0 \n",
            "0 0 0 0 0 \n",
            "이중 리스트의 출력이 끝났습니다.\n",
            "\n",
            "방향을 입력하세요(그만하시고 싶으시면'그만'이라고 입력):위쪽\n",
            "2 2\n",
            "이중 리스트를 출력합니다.\n",
            "0 0 0 0 0 \n",
            "0 0 0 0 0 \n",
            "0 0 1 0 0 \n",
            "0 0 0 0 0 \n",
            "0 0 0 0 0 \n",
            "이중 리스트의 출력이 끝났습니다.\n",
            "\n",
            "방향을 입력하세요(그만하시고 싶으시면'그만'이라고 입력):그만\n"
          ],
          "name": "stdout"
        }
      ]
    },
    {
      "cell_type": "code",
      "metadata": {
        "id": "BIAdf7NRbQBq",
        "outputId": "2205f442-dc25-4ba3-f87a-d23a3b5e2b0a",
        "colab": {
          "base_uri": "https://localhost:8080/",
          "height": 629
        }
      },
      "source": [
        "#테두리에 닿았다면?\n",
        "#내가 왼쪽 끝까지 왔는데 또 외쪽으로 간다고 하면 못가게 막는 것!\n",
        "\n",
        "def check(dir,y,x):\n",
        "  #현재 좌표가 테두리를 벗어난다면\n",
        "  if x<0 or x>=5 or y<0 or y>=5:\n",
        "    #다시고쳐주고\n",
        "    if dir == '왼쪽':\n",
        "      x = 0\n",
        "    elif dir == '오른쪽':\n",
        "      x = 4\n",
        "    elif dir == '위쪽':\n",
        "      y = 0\n",
        "    elif dir == '아래쪽':\n",
        "      y = 4\n",
        "\n",
        "    #사용자에게 알려줍니다.\n",
        "    print('더이상',dir,'쪽으로 갈 수 없습니다.')\n",
        " \n",
        " \n",
        "  # 그리고 그 좌표를 리턴합니다.\n",
        "  return y,x\n",
        "\n",
        "\n",
        "\n",
        "while True:\n",
        "  dir = input('방향을 입력하세요(그만하시고 싶으시면\\'그만\\'이라고 입력):')\n",
        "\n",
        "  #lists업데이트: 이동하기 전 위치와 좌표는 0으로 만든다.\n",
        "  lists[y][x] = 0\n",
        "  \n",
        "  #왼쪽으로 1칸 간다면? (2,2)->(2,1)\n",
        "  if dir == '왼쪽':\n",
        "    x = x - 1\n",
        "    y,x = check(dir,y,x)\n",
        "\n",
        "    # 테두리에 닿았다면\n",
        "    if x < 0:\n",
        "      x = 0\n",
        "      print('더이상 왼쪽으로 갈 수 없습니다.')\n",
        "\n",
        "  #오른쪽으로 1칸 간다면? (2,2) -> (2,3)\n",
        "  elif dir == '오른쪽':\n",
        "    x = x + 1\n",
        "    y,x = check(dir,y,x)\n",
        "    if x > 5:\n",
        "      x = 4\n",
        "      print('더이상 왼쪽으로 갈 수 없습니다.')\n",
        "\n",
        "  #위로 1칸 간다면? (2,2) -> (1,2)\n",
        "  elif dir == '위쪽':\n",
        "    y = y - 1\n",
        "    y,x = check(dir,y,x)\n",
        "    if y < 0:\n",
        "      y = 0\n",
        "      print('더이상 왼쪽으로 갈 수 없습니다.')\n",
        "\n",
        "  #아래로 1칸 간다면? (2,2) -> (3,2)\n",
        "  elif dir == '아래쪽':\n",
        "    y = y + 1\n",
        "    y,x = check(dir,y,x)\n",
        "    if y > 5:\n",
        "      y = 4\n",
        "      print('더이상 왼쪽으로 갈 수 없습니다.')\n",
        "  \n",
        "  elif dir == '그만':\n",
        "    break\n",
        "\n",
        "  print(y,x)\n",
        "\n",
        "  #이동한 후의 좌표는 1로 만든다.\n",
        "  lists[y][x] = 1\n",
        "\n",
        "  print_doublelist(lists)"
      ],
      "execution_count": 44,
      "outputs": [
        {
          "output_type": "stream",
          "text": [
            "방향을 입력하세요(그만하시고 싶으시면'그만'이라고 입력):왼쪽\n",
            "더이상 왼쪽 쪽으로 갈 수 없습니다.\n",
            "2 0\n",
            "이중 리스트를 출력합니다.\n",
            "0 0 0 0 0 \n",
            "0 0 0 0 0 \n",
            "1 0 0 0 0 \n",
            "0 0 0 0 0 \n",
            "0 0 0 0 0 \n",
            "이중 리스트의 출력이 끝났습니다.\n",
            "\n",
            "방향을 입력하세요(그만하시고 싶으시면'그만'이라고 입력):왼쪽\n",
            "더이상 왼쪽 쪽으로 갈 수 없습니다.\n",
            "2 0\n",
            "이중 리스트를 출력합니다.\n",
            "0 0 0 0 0 \n",
            "0 0 0 0 0 \n",
            "1 0 0 0 0 \n",
            "0 0 0 0 0 \n",
            "0 0 0 0 0 \n",
            "이중 리스트의 출력이 끝났습니다.\n",
            "\n",
            "방향을 입력하세요(그만하시고 싶으시면'그만'이라고 입력):왼쪽\n",
            "더이상 왼쪽 쪽으로 갈 수 없습니다.\n",
            "2 0\n",
            "이중 리스트를 출력합니다.\n",
            "0 0 0 0 0 \n",
            "0 0 0 0 0 \n",
            "1 0 0 0 0 \n",
            "0 0 0 0 0 \n",
            "0 0 0 0 0 \n",
            "이중 리스트의 출력이 끝났습니다.\n",
            "\n",
            "방향을 입력하세요(그만하시고 싶으시면'그만'이라고 입력):그만\n"
          ],
          "name": "stdout"
        }
      ]
    },
    {
      "cell_type": "code",
      "metadata": {
        "id": "z_78oH25eaYL"
      },
      "source": [
        ""
      ],
      "execution_count": null,
      "outputs": []
    }
  ]
}